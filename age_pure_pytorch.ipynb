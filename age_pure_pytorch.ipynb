{
 "metadata": {
  "language_info": {
   "codemirror_mode": {
    "name": "ipython",
    "version": 3
   },
   "file_extension": ".py",
   "mimetype": "text/x-python",
   "name": "python",
   "nbconvert_exporter": "python",
   "pygments_lexer": "ipython3",
   "version": "3.7.3-final"
  },
  "orig_nbformat": 2,
  "kernelspec": {
   "name": "Python 3.7.3 64-bit ('base': conda)",
   "display_name": "Python 3.7.3 64-bit ('base': conda)",
   "metadata": {
    "interpreter": {
     "hash": "ecf5722fdaf1897a315d257d89d94520bfcaa453217d5becf09b39e73618b0de"
    }
   }
  }
 },
 "nbformat": 4,
 "nbformat_minor": 2,
 "cells": [
  {
   "cell_type": "code",
   "execution_count": 153,
   "metadata": {},
   "outputs": [],
   "source": [
    "import torch\n",
    "from PIL import Image\n",
    "from torchvision import transforms\n",
    "from torch.utils.data import Dataset, DataLoader\n",
    "import torch.nn as nn\n",
    "import torch.nn.functional as F"
   ]
  },
  {
   "cell_type": "code",
   "execution_count": 208,
   "metadata": {},
   "outputs": [],
   "source": [
    "class Ageset(Dataset):\n",
    "\n",
    "    def __init__(self, path, transforms = None):\n",
    "        self.image_paths = list(Path(path).rglob(\"*.png\"))\n",
    "\n",
    "    def __len__(self):\n",
    "        return len(self.image_paths)\n",
    "\n",
    "    def imgpath_to_tensor(self, imgpath):\n",
    "        return transforms.PILToTensor()(Image.open(imgpath)).float()\n",
    "\n",
    "    def __getitem__(self,i):\n",
    "        # return self.image_paths[i]\n",
    "        return (self.imgpath_to_tensor(self.image_paths[i]),\n",
    "                int(self.image_paths[i].parent.name))"
   ]
  },
  {
   "cell_type": "code",
   "execution_count": 217,
   "metadata": {},
   "outputs": [],
   "source": [
    "class Model(nn.Module):\n",
    "    def __init__(self):\n",
    "        super(Model,self).__init__()\n",
    "        self.conv1 = nn.Conv2d(3,20,3)\n",
    "        self.conv2 = nn.Conv2d(20,20,3)\n",
    "        self.fc = nn.Linear(768320,1)\n",
    "    def forward(self, x):\n",
    "        out = F.relu(self.conv1(x))\n",
    "        out = F.relu(self.conv2(out))\n",
    "        return self.fc(out.view(-1,768320))"
   ]
  },
  {
   "cell_type": "code",
   "execution_count": 218,
   "metadata": {},
   "outputs": [
    {
     "output_type": "execute_result",
     "data": {
      "text/plain": [
       "tensor([[3.0527]], grad_fn=<AddmmBackward>)"
      ]
     },
     "metadata": {},
     "execution_count": 218
    }
   ],
   "source": [
    "dset = Ageset(\"data/face_age\")\n",
    "dl = DataLoader(dset, batch_size=8, shuffle=True, num_workers=0)\n",
    "model = Model()\n",
    "a = model(dset[0][0][None])\n",
    "a"
   ]
  },
  {
   "cell_type": "code",
   "execution_count": 223,
   "metadata": {},
   "outputs": [
    {
     "output_type": "stream",
     "name": "stdout",
     "text": [
      "tensor(36.5271, grad_fn=<MeanBackward0>)\n",
      "tensor(31.9020, grad_fn=<MeanBackward0>)\n",
      "tensor(30.5269, grad_fn=<MeanBackward0>)\n",
      "tensor(31.2768, grad_fn=<MeanBackward0>)\n",
      "tensor(26.9017, grad_fn=<MeanBackward0>)\n",
      "tensor(24.6516, grad_fn=<MeanBackward0>)\n",
      "tensor(33.6515, grad_fn=<MeanBackward0>)\n",
      "tensor(29.9014, grad_fn=<MeanBackward0>)\n",
      "tensor(30.6410, grad_fn=<MeanBackward0>)\n",
      "tensor(22.9012, grad_fn=<MeanBackward0>)\n",
      "tensor(32.9011, grad_fn=<MeanBackward0>)\n",
      "tensor(37.5260, grad_fn=<MeanBackward0>)\n",
      "tensor(31.5259, grad_fn=<MeanBackward0>)\n",
      "tensor(26.2758, grad_fn=<MeanBackward0>)\n",
      "tensor(32.2757, grad_fn=<MeanBackward0>)\n",
      "tensor(28.2756, grad_fn=<MeanBackward0>)\n",
      "tensor(28.2750, grad_fn=<MeanBackward0>)\n",
      "tensor(27.6504, grad_fn=<MeanBackward0>)\n",
      "tensor(33.2753, grad_fn=<MeanBackward0>)\n",
      "tensor(37.6502, grad_fn=<MeanBackward0>)\n",
      "tensor(39.2751, grad_fn=<MeanBackward0>)\n",
      "tensor(24.9000, grad_fn=<MeanBackward0>)\n",
      "tensor(26.6499, grad_fn=<MeanBackward0>)\n",
      "tensor(25.2748, grad_fn=<MeanBackward0>)\n",
      "tensor(29.2747, grad_fn=<MeanBackward0>)\n",
      "tensor(17.6496, grad_fn=<MeanBackward0>)\n",
      "tensor(25.2745, grad_fn=<MeanBackward0>)\n",
      "tensor(22.6494, grad_fn=<MeanBackward0>)\n",
      "tensor(37.6493, grad_fn=<MeanBackward0>)\n"
     ]
    }
   ],
   "source": [
    "NUM_EPOCH = 1\n",
    "LR = 0.0001\n",
    "\n",
    "opt = torch.optim.Adam(model.parameters(), LR)\n",
    "\n",
    "def mae_loss(y, pred):\n",
    "    return torch.abs(y-pred).mean()\n",
    "\n",
    "loss_fn = mae_loss\n",
    "\n",
    "for epoch in range(NUM_EPOCH):\n",
    "    for x,y in dl:\n",
    "        pred = model(x)\n",
    "        loss = loss_fn(y, pred)\n",
    "        opt.zero_grad()\n",
    "        loss.backward()\n",
    "        opt.step()\n",
    "        print(loss)\n"
   ]
  }
 ]
}
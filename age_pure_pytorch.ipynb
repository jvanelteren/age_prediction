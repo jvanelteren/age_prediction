{
 "metadata": {
  "language_info": {
   "codemirror_mode": {
    "name": "ipython",
    "version": 3
   },
   "file_extension": ".py",
   "mimetype": "text/x-python",
   "name": "python",
   "nbconvert_exporter": "python",
   "pygments_lexer": "ipython3",
   "version": "3.8.3-final"
  },
  "orig_nbformat": 2,
  "kernelspec": {
   "name": "Python 3.8.3 64-bit ('base': conda)",
   "display_name": "Python 3.8.3 64-bit ('base': conda)",
   "metadata": {
    "interpreter": {
     "hash": "98b0a9b7b4eaaa670588a142fd0a9b87eaafe866f1db4228be72b4211d12040f"
    }
   }
  }
 },
 "nbformat": 4,
 "nbformat_minor": 2,
 "cells": [
  {
   "cell_type": "code",
   "execution_count": 38,
   "metadata": {},
   "outputs": [],
   "source": [
    "import time\n",
    "import functools\n",
    "import random\n",
    "from pathlib import Path\n",
    "import numpy as np\n",
    "import copy\n",
    "from PIL import Image\n",
    "import torch\n",
    "from torch.utils.data import Dataset, DataLoader, TensorDataset\n",
    "import torch.nn as nn\n",
    "import torch.nn.functional as F\n",
    "from torch.utils.tensorboard import SummaryWriter\n",
    "from torch.optim import lr_scheduler, swa_utils\n",
    "import torchvision\n",
    "from torchvision.datasets import ImageFolder, DatasetFolder\n",
    "from torchvision import transforms\n",
    "from diskcache import Cache"
   ]
  },
  {
   "cell_type": "code",
   "execution_count": 39,
   "metadata": {},
   "outputs": [],
   "source": [
    "\n",
    "cache = Cache('.cache/diskcache')\n",
    "DEVICE = torch.device(\"cuda:0\" if torch.cuda.is_available() else \"cpu\")\n",
    "PATH = 'data/face_age'\n",
    "\n",
    "\n",
    "@cache.memoize()\n",
    "def imgpath_to_normalized_tensor(imgpath):\n",
    "        # makes a tensor, scales range to 0-1 and normalizes to same as imagenet\n",
    "        normalize = transforms.Normalize(mean=[0.485, 0.456, 0.406],\n",
    "                                    std=[0.229, 0.224, 0.225])\n",
    "        img = normalize(transforms.PILToTensor()(Image.open(imgpath)).float()/255)\n",
    "        return img\n",
    "\n",
    "\n",
    "class Ageset(Dataset):\n",
    "    def __init__(self, path, transforms = None, valid=False, split_pct = 0.3):\n",
    "        self.image_paths = list(Path(path).rglob(\"*.png\"))\n",
    "        random.seed(42)\n",
    "        random.shuffle(self.image_paths)\n",
    "        split_point = int(len(self)*0.3)\n",
    "        if valid:\n",
    "            self.image_paths = self.image_paths[:split_point]\n",
    "            print('len validation dataset', len(self.image_paths))\n",
    "        else:\n",
    "            self.image_paths = self.image_paths[split_point:]\n",
    "            print('len train dataset', len(self.image_paths))\n",
    "    def __len__(self):\n",
    "        return len(self.image_paths)\n",
    "    \n",
    "    def show_image(self,i):\n",
    "        return Image.open(self.image_paths[i])\n",
    "\n",
    "    # @functools.lru_cache(maxsize=None)\n",
    "    @classmethod # somehow this is needed for diskcache to work properly. Or define the function outside of the class\n",
    "    @cache.memoize()\n",
    "    def imgpath_to_normalized_tensor(cls,imgpath):\n",
    "            # makes a tensor, scales range to 0-1 and normalizes to same as imagenet\n",
    "            normalize = transforms.Normalize(mean=[0.485, 0.456, 0.406],\n",
    "                                        std=[0.229, 0.224, 0.225])\n",
    "            img = normalize(transforms.PILToTensor()(Image.open(imgpath)).float()/255)\n",
    "            return img\n",
    "            \n",
    "    def __getitem__(self,i):\n",
    "        if isinstance(i, slice):\n",
    "            return [self[n] for n,_ in enumerate(self.image_paths[i])]\n",
    "        \n",
    "        return (self.imgpath_to_normalized_tensor(self.image_paths[i]),\n",
    "                int(self.image_paths[i].parent.name))\n"
   ]
  },
  {
   "cell_type": "code",
   "execution_count": 40,
   "metadata": {},
   "outputs": [],
   "source": [
    "def construct_tensor_dataset(path, max_len=None):\n",
    "    # this took 20 GB RAM max\n",
    "    image_paths = list(Path(path).rglob(\"*.png\"))\n",
    "    random.shuffle(image_paths)\n",
    "    if max_len:\n",
    "        image_paths = image_paths[:max_len]\n",
    "    \n",
    "    xs = torch.empty(len(image_paths), 3,200,200)\n",
    "    print('empty created')\n",
    "    for i, loc in enumerate(image_paths):\n",
    "        if i%1000==0: print(i)\n",
    "        xs[i] = imgpath_to_normalized_tensor(loc)\n",
    "    torch.save(xs,'data/input/xs')\n",
    "\n",
    "    print('done')\n",
    "\n",
    "    ys = torch.stack([torch.Tensor([int(Path(loc).parent.name)]) for loc in image_paths])\n",
    "    torch.save(ys,'data/input/ys')\n",
    "    print('done')\n",
    "    return None\n",
    "# construct_tensor_dataset(PATH)"
   ]
  },
  {
   "cell_type": "code",
   "execution_count": 41,
   "metadata": {},
   "outputs": [],
   "source": [
    "class AgeTensorDataset(TensorDataset):\n",
    "    def __init__(self, xs, ys, valid=False, split_pct=0.3):\n",
    "        length = len(xs)\n",
    "        split = int(xs.shape[0]*split_pct)\n",
    "        if valid:\n",
    "            super().__init__(xs[:split],ys[:split])\n",
    "        else:\n",
    "            super().__init__(xs[split:],ys[split:])\n",
    "\n",
    "    def __getitem__(self,x):\n",
    "        return super().__getitem__(x)"
   ]
  },
  {
   "cell_type": "code",
   "execution_count": 42,
   "metadata": {},
   "outputs": [],
   "source": [
    "class AgeResnet(nn.Module):\n",
    "    def __init__(self, size='18', feat_extract=False):\n",
    "        super().__init__()\n",
    "        resnet = 'torchvision.models.resnet'+size+'(pretrained=True)'\n",
    "        resnet = eval(resnet)\n",
    "        modules=list(resnet.children())[:-1]\n",
    "        self.resnet =nn.Sequential(*modules)\n",
    "\n",
    "        if feat_extract:\n",
    "            # with feature extraction we only train the linear layer and keep the resnet parameters fixed \n",
    "            for m in self.modules():\n",
    "                m.requires_grad_(False)\n",
    "\n",
    "        self.fc = nn.Linear(in_features=512, out_features=1, bias=True)\n",
    "        nn.init.kaiming_normal_(self.fc.weight)\n",
    "\n",
    "    def forward(self,x):\n",
    "        out = self.resnet(x)\n",
    "        x = torch.flatten(out, 1)\n",
    "        return self.fc(x)"
   ]
  },
  {
   "cell_type": "code",
   "execution_count": 43,
   "metadata": {},
   "outputs": [],
   "source": [
    "def determine_size(dataset):\n",
    "    num_items = len(dataset)\n",
    "    img_dimensions = list(dataset[0][0].shape)\n",
    "    bytes_per_fp32 = 4\n",
    "    bytes_per_gb = 1024**3\n",
    "    size_in_gb = num_items * int(np.product(img_dimensions)) * bytes_per_fp32 / bytes_per_gb\n",
    "    print('items in dataset', num_items, 'img_dimensions', img_dimensions, 'size of ds in memory in gb:', size_in_gb)"
   ]
  },
  {
   "cell_type": "code",
   "execution_count": 44,
   "metadata": {},
   "outputs": [],
   "source": [
    "def train():\n",
    "    best_loss = 1000000000\n",
    "    best_model = None\n",
    "    not_improve_count = 0\n",
    "    loss = {'train':[], 'val':[]}\n",
    "\n",
    "    for epoch in range(NUM_EPOCH):\n",
    "        print(f'Starting epoch {epoch}')\n",
    "        start_time = time.time()\n",
    "        for phase in ['train', 'val']:\n",
    "            if phase == 'train':\n",
    "                model.train()\n",
    "            else:\n",
    "                model.eval()\n",
    "\n",
    "            total_loss = 0\n",
    "            for data in dls[phase]:\n",
    "                x, y = data[0].to(DEVICE), data[1].to(DEVICE)\n",
    "                with torch.set_grad_enabled(phase == 'train'):\n",
    "                    pred = model(x)\n",
    "                    loss = loss_fn(y, pred)\n",
    "                    total_loss += loss * len(y)\n",
    "                    if phase == 'train':\n",
    "                        loss.backward()\n",
    "                        opt.step()\n",
    "                        opt.zero_grad()\n",
    "                        if SWA_ENABLED and epoch > SWA_START:\n",
    "                            swa_model.update_parameters(model)\n",
    "                            swa_sched.step()\n",
    "                        elif SCHED_ENABLED:\n",
    "                            sched.step(loss)\n",
    "                            writer.add_scalar('lr/scheduler', sched.get_last_lr()[0], epoch)\n",
    "                        writer.add_scalar('lr/optparamgroup0', opt.param_groups[0]['lr'], epoch)\n",
    "                writer.add_scalar('batchloss/'+phase, loss, epoch)\n",
    "            \n",
    "            writer.add_scalar('loss/'+phase, total_loss/len(dls[phase].dataset), epoch)\n",
    "    \n",
    "        if total_loss < best_loss:\n",
    "            best_loss = total_loss\n",
    "            best_model = copy.deepcopy(model.state_dict())\n",
    "            not_improve_count = 0\n",
    "        else:\n",
    "            not_improve_count += 1\n",
    "            if not_improve_count > 300:\n",
    "                print('early stopping!')\n",
    "                break\n",
    "           \n",
    "        print(f\"loss after epoch {epoch} : {total_loss / len(dls['val'].dataset)}\")\n",
    "        writer.add_scalar('time', (time.time()-start_time)/60, epoch)\n",
    "\n",
    "\n",
    "    if SWA_ENABLED:\n",
    "        swa_model.to('cpu')\n",
    "        swa_utils.update_bn(train_dl, swa_model)\n",
    "        swa_model.to(DEVICE)\n",
    "        total_loss_train = 0\n",
    "        total_loss_val = 0\n",
    "\n",
    "        with torch.no_grad():\n",
    "            for data in train_dl:\n",
    "                    x, y = data[0].to(DEVICE), data[1].to(DEVICE)\n",
    "                    total_loss_train += loss_fn(y, model(x)) * len(y)\n",
    "            writer.add_scalar('loss/train', total_loss_train/len(train_set), epoch+1)\n",
    "            swa_model.eval()\n",
    "\n",
    "            for data in val_dl:\n",
    "                    x, y = data[0].to(DEVICE), data[1].to(DEVICE)\n",
    "                    total_loss_val += loss_fn(y, model(x)) * len(y)\n",
    "            writer.add_scalar('loss/val', total_loss_train/len(val_set), epoch+1)\n",
    "        swa_model.avg_fn=None\n",
    "        torch.save(swa_model,'data/output/'+'swa_model'+str((total_loss_val/len(val_set)).item()))\n",
    "    torch.save(best_model,'data/output/'+'model'+str((best_loss/len(val_set)).item()))\n",
    "    writer.flush()\n",
    "    writer.close()"
   ]
  },
  {
   "cell_type": "code",
   "execution_count": 45,
   "metadata": {
    "tags": []
   },
   "outputs": [
    {
     "output_type": "stream",
     "name": "stdout",
     "text": [
      "len train dataset 13690\n",
      "items in dataset 4000 img_dimensions [3, 200, 200] size of ds in memory in gb: 1.7881393432617188\n",
      "len validation dataset 5866\n",
      "items in dataset 1000 img_dimensions [3, 200, 200] size of ds in memory in gb: 0.4470348358154297\n",
      "Starting epoch 0\n",
      "loss after epoch 0 : 15.973488807678223\n",
      "Starting epoch 1\n",
      "loss after epoch 1 : 14.730669021606445\n",
      "Starting epoch 2\n",
      "loss after epoch 2 : 11.222700119018555\n",
      "Starting epoch 3\n",
      "loss after epoch 3 : 9.412066459655762\n",
      "Starting epoch 4\n",
      "loss after epoch 4 : 7.876637935638428\n",
      "Starting epoch 5\n",
      "loss after epoch 5 : 7.33249568939209\n",
      "Starting epoch 6\n",
      "loss after epoch 6 : 7.465877056121826\n",
      "Starting epoch 7\n",
      "loss after epoch 7 : 6.9696574211120605\n",
      "Starting epoch 8\n",
      "loss after epoch 8 : 5.225386142730713\n",
      "Starting epoch 9\n",
      "loss after epoch 9 : 5.93442964553833\n",
      "Starting epoch 10\n",
      "loss after epoch 10 : 5.110057353973389\n",
      "Starting epoch 11\n",
      "loss after epoch 11 : 4.549168109893799\n",
      "Starting epoch 12\n",
      "loss after epoch 12 : 5.35850715637207\n",
      "Starting epoch 13\n",
      "loss after epoch 13 : 4.944799900054932\n",
      "Starting epoch 14\n",
      "loss after epoch 14 : 4.644627094268799\n",
      "Starting epoch 15\n",
      "loss after epoch 15 : 4.734287261962891\n",
      "Starting epoch 16\n",
      "loss after epoch 16 : 4.432427883148193\n",
      "Starting epoch 17\n",
      "loss after epoch 17 : 4.357872009277344\n",
      "Starting epoch 18\n",
      "loss after epoch 18 : 4.603386878967285\n",
      "Starting epoch 19\n",
      "loss after epoch 19 : 5.142632007598877\n",
      "Starting epoch 20\n",
      "loss after epoch 20 : 4.201532363891602\n",
      "Starting epoch 21\n",
      "loss after epoch 21 : 4.772378921508789\n",
      "Starting epoch 22\n",
      "loss after epoch 22 : 4.876450538635254\n",
      "Starting epoch 23\n",
      "loss after epoch 23 : 4.3780364990234375\n",
      "Starting epoch 24\n",
      "loss after epoch 24 : 4.2032599449157715\n",
      "Starting epoch 25\n",
      "loss after epoch 25 : 4.7788848876953125\n",
      "Starting epoch 26\n",
      "loss after epoch 26 : 4.364331245422363\n",
      "Starting epoch 27\n",
      "loss after epoch 27 : 4.635251045227051\n",
      "Starting epoch 28\n",
      "loss after epoch 28 : 5.7498459815979\n",
      "Starting epoch 29\n",
      "loss after epoch 29 : 4.023679733276367\n",
      "Starting epoch 30\n",
      "loss after epoch 30 : 4.072373867034912\n",
      "Starting epoch 31\n",
      "loss after epoch 31 : 4.491127014160156\n",
      "Starting epoch 32\n",
      "loss after epoch 32 : 4.440795421600342\n",
      "Starting epoch 33\n",
      "loss after epoch 33 : 4.3610639572143555\n",
      "Starting epoch 34\n",
      "loss after epoch 34 : 4.111489295959473\n",
      "Starting epoch 35\n",
      "loss after epoch 35 : 4.213149070739746\n",
      "Starting epoch 36\n",
      "loss after epoch 36 : 4.137696266174316\n",
      "Starting epoch 37\n",
      "loss after epoch 37 : 4.37163782119751\n",
      "Starting epoch 38\n",
      "loss after epoch 38 : 4.4064249992370605\n",
      "Starting epoch 39\n",
      "loss after epoch 39 : 4.074181079864502\n"
     ]
    }
   ],
   "source": [
    "# adam works best with lr of 0.001 (tested 0.1 and 0.01)\n",
    "# adam without scheduler works best\n",
    "# first it took 6 minutes to load all the datasets. With lru cache it was immediate (6GB memory use). With disk cache it took about 1-2 minutes. Great result\n",
    "# feature extraction led to MSE of 12 after 40 epochs. Didnt really work. Maybe unfreeze more\n",
    "# adam was outperformed in feature extraction, but for finetuning it worked better\n",
    "# larger bs converges better and runs sligthly faster (about 10%) [512, 256,64,8]\n",
    "\n",
    "import adabound\n",
    "\n",
    "def mae_loss(y, pred):\n",
    "    return (torch.abs(y-pred.T)).mean()\n",
    "loss_fn = mae_loss\n",
    "\n",
    "NUM_EPOCH = 40\n",
    "SWA_START = 30\n",
    "LR = 0.001\n",
    "BATCH_SIZE = 512\n",
    "DEVICE = torch.device(\"cuda:0\" if torch.cuda.is_available() else \"cpu\")\n",
    "SWA_ENABLED = False\n",
    "SCHED_ENABLED = False\n",
    "\n",
    "torch.cuda.empty_cache()\n",
    "# xs = torch.load('data/input/xs').to(DEVICE)\n",
    "# ys = torch.load('data/input/ys').to(DEVICE)\n",
    "\n",
    "# train_set = AgeTensorDataset(xs,ys, valid=False)\n",
    "train_set = Ageset(\"data/face_age\")[:4000]\n",
    "determine_size(train_set)\n",
    "train_dl = DataLoader(train_set, batch_size=BATCH_SIZE, shuffle=True)\n",
    "\n",
    "# val_set = AgeTensorDataset(xs,ys, valid=True)\n",
    "val_set = Ageset(\"data/face_age\", valid=True)[:1000]\n",
    "determine_size(val_set) \n",
    "val_dl = DataLoader(val_set, batch_size=BATCH_SIZE, shuffle=True)\n",
    "dls = {'train': train_dl, 'val': val_dl}\n",
    "\n",
    "feat={True:'feat_ext', False:'finetune'}\n",
    "opts = {0:'adam',1:'adabound'}\n",
    "\n",
    "for i in [False]:\n",
    "    for j in range(1):\n",
    "        for BATCH_SIZE in [256]:\n",
    "            for res in [18]:\n",
    "\n",
    "                torch.cuda.empty_cache()\n",
    "\n",
    "\n",
    "\n",
    "                writer = SummaryWriter(comment=f'{feat[i]} opt {opts[j]} epoch {NUM_EPOCH} SWA_START {SWA_START} LR BATCH_SIZE {LR}')\n",
    "                model = AgeResnet(size=str(res), feat_extract=i)\n",
    "                model = model.to(DEVICE)\n",
    "\n",
    "                if j ==0:\n",
    "                    opt = torch.optim.Adam(model.parameters(), LR)\n",
    "                if j ==1:\n",
    "                    opt = adabound.AdaBound(model.parameters(), lr=1e-3, final_lr=0.1)\n",
    "\n",
    "\n",
    "                if SCHED_ENABLED:\n",
    "                    # if i ==0:\n",
    "                    #     sched = torch.optim.lr_scheduler.ReduceLROnPlateau(opt)\n",
    "                    #     sched.get_last_lr = lambda: [1]\n",
    "                    # if i == 1:\n",
    "                    #     sched = torch.optim.lr_scheduler.OneCycleLR(opt, LR, steps_per_epoch=len(train_dl), epochs=NUM_EPOCH)\n",
    "                    # if i == 2:\n",
    "                    sched = torch.optim.lr_scheduler.MultiplicativeLR(opt, lr_lambda=lambda x: 1)\n",
    "                if SWA_ENABLED:\n",
    "                    swa_model = swa_utils.AveragedModel(model)\n",
    "                    swa_sched = swa_utils.SWALR(opt, swa_lr = 0.0005)\n",
    "                train()"
   ]
  },
  {
   "cell_type": "code",
   "execution_count": 24,
   "metadata": {},
   "outputs": [
    {
     "output_type": "stream",
     "name": "stdout",
     "text": [
      "len validation dataset 5866\n",
      "21.831789016723633 32 <PIL.PngImagePlugin.PngImageFile image mode=RGB size=200x200 at 0x7FEE731DF9D0>\n",
      "1.1744095087051392 1 <PIL.PngImagePlugin.PngImageFile image mode=RGB size=200x200 at 0x7FEE73F0D820>\n",
      "58.65882110595703 50 <PIL.PngImagePlugin.PngImageFile image mode=RGB size=200x200 at 0x7FEE7A181730>\n",
      "80.39472961425781 85 <PIL.PngImagePlugin.PngImageFile image mode=RGB size=200x200 at 0x7FEE7A181E80>\n",
      "51.555397033691406 50 <PIL.PngImagePlugin.PngImageFile image mode=RGB size=200x200 at 0x7FEE7A181AC0>\n",
      "17.916959762573242 19 <PIL.PngImagePlugin.PngImageFile image mode=RGB size=200x200 at 0x7FEE7A181CD0>\n",
      "1.1454331874847412 1 <PIL.PngImagePlugin.PngImageFile image mode=RGB size=200x200 at 0x7FEE79AD9820>\n",
      "1.7065680027008057 2 <PIL.PngImagePlugin.PngImageFile image mode=RGB size=200x200 at 0x7FEE73623220>\n",
      "4.145883083343506 8 <PIL.PngImagePlugin.PngImageFile image mode=RGB size=200x200 at 0x7FEE73623100>\n",
      "12.813898086547852 18 <PIL.PngImagePlugin.PngImageFile image mode=RGB size=200x200 at 0x7FEE73623B20>\n"
     ]
    }
   ],
   "source": [
    "model = AgeResnet()\n",
    "model.load_state_dict(torch.load(\"data/output/modeltensor(4.3645, device='cuda:0')\"))\n",
    "model.eval()\n",
    "val_set = Ageset(\"data/face_age\", valid=True)\n",
    "for i in range(10):\n",
    "    x,y = val_set[i]\n",
    "    print(model(x[None]).item(),y, val_set.show_image(i))"
   ]
  },
  {
   "cell_type": "code",
   "execution_count": 31,
   "metadata": {},
   "outputs": [
    {
     "output_type": "execute_result",
     "data": {
      "text/plain": [
       "           x                                                img\n",
       "0  21.831789  <PIL.PngImagePlugin.PngImageFile image mode=RG...\n",
       "1   1.174410  <PIL.PngImagePlugin.PngImageFile image mode=RG...\n",
       "2  58.658821  <PIL.PngImagePlugin.PngImageFile image mode=RG...\n",
       "3  80.394730  <PIL.PngImagePlugin.PngImageFile image mode=RG...\n",
       "4  51.555397  <PIL.PngImagePlugin.PngImageFile image mode=RG...\n",
       "5  17.916960  <PIL.PngImagePlugin.PngImageFile image mode=RG...\n",
       "6   1.145433  <PIL.PngImagePlugin.PngImageFile image mode=RG...\n",
       "7   1.706568  <PIL.PngImagePlugin.PngImageFile image mode=RG...\n",
       "8   4.145883  <PIL.PngImagePlugin.PngImageFile image mode=RG...\n",
       "9  12.813898  <PIL.PngImagePlugin.PngImageFile image mode=RG..."
      ],
      "text/html": "<div>\n<style scoped>\n    .dataframe tbody tr th:only-of-type {\n        vertical-align: middle;\n    }\n\n    .dataframe tbody tr th {\n        vertical-align: top;\n    }\n\n    .dataframe thead th {\n        text-align: right;\n    }\n</style>\n<table border=\"1\" class=\"dataframe\">\n  <thead>\n    <tr style=\"text-align: right;\">\n      <th></th>\n      <th>x</th>\n      <th>img</th>\n    </tr>\n  </thead>\n  <tbody>\n    <tr>\n      <th>0</th>\n      <td>21.831789</td>\n      <td>&lt;PIL.PngImagePlugin.PngImageFile image mode=RG...</td>\n    </tr>\n    <tr>\n      <th>1</th>\n      <td>1.174410</td>\n      <td>&lt;PIL.PngImagePlugin.PngImageFile image mode=RG...</td>\n    </tr>\n    <tr>\n      <th>2</th>\n      <td>58.658821</td>\n      <td>&lt;PIL.PngImagePlugin.PngImageFile image mode=RG...</td>\n    </tr>\n    <tr>\n      <th>3</th>\n      <td>80.394730</td>\n      <td>&lt;PIL.PngImagePlugin.PngImageFile image mode=RG...</td>\n    </tr>\n    <tr>\n      <th>4</th>\n      <td>51.555397</td>\n      <td>&lt;PIL.PngImagePlugin.PngImageFile image mode=RG...</td>\n    </tr>\n    <tr>\n      <th>5</th>\n      <td>17.916960</td>\n      <td>&lt;PIL.PngImagePlugin.PngImageFile image mode=RG...</td>\n    </tr>\n    <tr>\n      <th>6</th>\n      <td>1.145433</td>\n      <td>&lt;PIL.PngImagePlugin.PngImageFile image mode=RG...</td>\n    </tr>\n    <tr>\n      <th>7</th>\n      <td>1.706568</td>\n      <td>&lt;PIL.PngImagePlugin.PngImageFile image mode=RG...</td>\n    </tr>\n    <tr>\n      <th>8</th>\n      <td>4.145883</td>\n      <td>&lt;PIL.PngImagePlugin.PngImageFile image mode=RG...</td>\n    </tr>\n    <tr>\n      <th>9</th>\n      <td>12.813898</td>\n      <td>&lt;PIL.PngImagePlugin.PngImageFile image mode=RG...</td>\n    </tr>\n  </tbody>\n</table>\n</div>"
     },
     "metadata": {},
     "execution_count": 31
    }
   ],
   "source": [
    "import pandas as pd\n",
    "df = pd.DataFrame({'x':[model(val_set[i][0][None]).item() for i in range(10)],\n",
    "            'img':[val_set.show_image(i) for i in range(10)]})\n",
    "df"
   ]
  },
  {
   "cell_type": "code",
   "execution_count": null,
   "metadata": {},
   "outputs": [],
   "source": []
  },
  {
   "cell_type": "code",
   "execution_count": 20,
   "metadata": {},
   "outputs": [
    {
     "output_type": "stream",
     "name": "stdout",
     "text": [
      "len validation dataset 5866\n"
     ]
    },
    {
     "output_type": "error",
     "ename": "AttributeError",
     "evalue": "'list' object has no attribute 'show_image'",
     "traceback": [
      "\u001b[0;31m---------------------------------------------------------------------------\u001b[0m",
      "\u001b[0;31mAttributeError\u001b[0m                            Traceback (most recent call last)",
      "\u001b[0;32m<ipython-input-20-f37cc8452ffe>\u001b[0m in \u001b[0;36m<module>\u001b[0;34m\u001b[0m\n\u001b[1;32m      1\u001b[0m \u001b[0mval_set\u001b[0m \u001b[0;34m=\u001b[0m \u001b[0mAgeset\u001b[0m\u001b[0;34m(\u001b[0m\u001b[0;34m\"data/face_age\"\u001b[0m\u001b[0;34m,\u001b[0m \u001b[0mvalid\u001b[0m\u001b[0;34m=\u001b[0m\u001b[0;32mTrue\u001b[0m\u001b[0;34m)\u001b[0m\u001b[0;34m[\u001b[0m\u001b[0;34m:\u001b[0m\u001b[0;36m10\u001b[0m\u001b[0;34m]\u001b[0m\u001b[0;34m\u001b[0m\u001b[0;34m\u001b[0m\u001b[0m\n\u001b[0;32m----> 2\u001b[0;31m \u001b[0mval_set\u001b[0m\u001b[0;34m.\u001b[0m\u001b[0mshow_image\u001b[0m\u001b[0;34m(\u001b[0m\u001b[0;36m1\u001b[0m\u001b[0;34m)\u001b[0m\u001b[0;34m\u001b[0m\u001b[0;34m\u001b[0m\u001b[0m\n\u001b[0m",
      "\u001b[0;31mAttributeError\u001b[0m: 'list' object has no attribute 'show_image'"
     ]
    }
   ],
   "source": [
    "val_set = Ageset(\"data/face_age\", valid=True)[:10]\n",
    "val_set.show_image(1)"
   ]
  },
  {
   "cell_type": "code",
   "execution_count": 61,
   "metadata": {},
   "outputs": [
    {
     "output_type": "stream",
     "name": "stdout",
     "text": [
      "tensor([[39.5846]], grad_fn=<AddmmBackward>) 32\n",
      "tensor([[-0.8336]], grad_fn=<AddmmBackward>) 1\n",
      "tensor([[124.0162]], grad_fn=<AddmmBackward>) 50\n",
      "tensor([[168.4021]], grad_fn=<AddmmBackward>) 85\n",
      "tensor([[105.6732]], grad_fn=<AddmmBackward>) 50\n",
      "tensor([[32.9609]], grad_fn=<AddmmBackward>) 19\n",
      "tensor([[-0.9324]], grad_fn=<AddmmBackward>) 1\n",
      "tensor([[0.1149]], grad_fn=<AddmmBackward>) 2\n",
      "tensor([[4.1401]], grad_fn=<AddmmBackward>) 8\n",
      "tensor([[21.9747]], grad_fn=<AddmmBackward>) 18\n"
     ]
    }
   ],
   "source": [
    "for x,y in val_set[:10]:\n",
    "    model.eval()\n",
    "    x.to(DEVICE)\n",
    "    print(model(x[None]),y)"
   ]
  },
  {
   "cell_type": "code",
   "execution_count": 50,
   "metadata": {},
   "outputs": [
    {
     "output_type": "execute_result",
     "data": {
      "text/plain": [
       "tensor([[3.3705]], grad_fn=<AddmmBackward>)"
      ]
     },
     "metadata": {},
     "execution_count": 50
    }
   ],
   "source": [
    "model(val_set[1][0][None])"
   ]
  },
  {
   "cell_type": "code",
   "execution_count": null,
   "metadata": {},
   "outputs": [],
   "source": [
    "#launch tensorboard\n",
    "python -m tensorboard.main --logdir=runs --host=0.0.0.0 --port=6006"
   ]
  },
  {
   "cell_type": "code",
   "execution_count": null,
   "metadata": {},
   "outputs": [],
   "source": [
    "tensorboard dev upload --logdir runs \\\n",
    "--name \"My latest experiment\" \\ # optional\n",
    "--description \"Simple comparison of several hyperparameters\" # optional"
   ]
  },
  {
   "cell_type": "code",
   "execution_count": 18,
   "metadata": {},
   "outputs": [],
   "source": [
    "torch.save(model.state_dict(),'data/output/bestmodel.model')"
   ]
  },
  {
   "cell_type": "code",
   "execution_count": 17,
   "metadata": {},
   "outputs": [
    {
     "output_type": "execute_result",
     "data": {
      "text/plain": [
       "(device(type='cpu'), device(type='cuda', index=0))"
      ]
     },
     "metadata": {},
     "execution_count": 17
    }
   ],
   "source": [
    "a = torch.Tensor([2])\n",
    "b = a.to(DEVICE)\n",
    "a.device, b.device"
   ]
  },
  {
   "cell_type": "code",
   "execution_count": 2,
   "metadata": {},
   "outputs": [],
   "source": [
    "import torch"
   ]
  },
  {
   "cell_type": "code",
   "execution_count": 8,
   "metadata": {},
   "outputs": [],
   "source": [
    "DEVICE = torch.device(\"cuda:0\" if torch.cuda.is_available() else \"cpu\")\n"
   ]
  },
  {
   "cell_type": "code",
   "execution_count": 15,
   "metadata": {},
   "outputs": [],
   "source": [
    "torch.cuda.empty_cache()"
   ]
  },
  {
   "cell_type": "code",
   "execution_count": 32,
   "metadata": {},
   "outputs": [
    {
     "output_type": "display_data",
     "data": {
      "text/plain": "<IPython.core.display.HTML object>",
      "text/html": "<table border=\"1\" class=\"dataframe\">\n  <thead>\n    <tr style=\"text-align: right;\">\n      <th></th>\n      <th>x</th>\n      <th>img</th>\n    </tr>\n  </thead>\n  <tbody>\n    <tr>\n      <th>0</th>\n      <td>21.831789</td>\n      <td>&lt;PIL.PngImagePlugin.PngImageFile image mode=RGB size=200x200 at 0x7FEE73006280&gt;</td>\n    </tr>\n    <tr>\n      <th>1</th>\n      <td>1.174410</td>\n      <td>&lt;PIL.PngImagePlugin.PngImageFile image mode=RGB size=200x200 at 0x7FEE73006F10&gt;</td>\n    </tr>\n    <tr>\n      <th>2</th>\n      <td>58.658821</td>\n      <td>&lt;PIL.PngImagePlugin.PngImageFile image mode=RGB size=200x200 at 0x7FEE73006D60&gt;</td>\n    </tr>\n    <tr>\n      <th>3</th>\n      <td>80.394730</td>\n      <td>&lt;PIL.PngImagePlugin.PngImageFile image mode=RGB size=200x200 at 0x7FEE730062E0&gt;</td>\n    </tr>\n    <tr>\n      <th>4</th>\n      <td>51.555397</td>\n      <td>&lt;PIL.PngImagePlugin.PngImageFile image mode=RGB size=200x200 at 0x7FEE730FFAC0&gt;</td>\n    </tr>\n    <tr>\n      <th>5</th>\n      <td>17.916960</td>\n      <td>&lt;PIL.PngImagePlugin.PngImageFile image mode=RGB size=200x200 at 0x7FEE730FFB20&gt;</td>\n    </tr>\n    <tr>\n      <th>6</th>\n      <td>1.145433</td>\n      <td>&lt;PIL.PngImagePlugin.PngImageFile image mode=RGB size=200x200 at 0x7FEE730FFF10&gt;</td>\n    </tr>\n    <tr>\n      <th>7</th>\n      <td>1.706568</td>\n      <td>&lt;PIL.PngImagePlugin.PngImageFile image mode=RGB size=200x200 at 0x7FEE730FFC70&gt;</td>\n    </tr>\n    <tr>\n      <th>8</th>\n      <td>4.145883</td>\n      <td>&lt;PIL.PngImagePlugin.PngImageFile image mode=RGB size=200x200 at 0x7FEE730FF370&gt;</td>\n    </tr>\n    <tr>\n      <th>9</th>\n      <td>12.813898</td>\n      <td>&lt;PIL.PngImagePlugin.PngImageFile image mode=RGB size=200x200 at 0x7FEE730FF640&gt;</td>\n    </tr>\n  </tbody>\n</table>"
     },
     "metadata": {}
    }
   ],
   "source": [
    "from IPython.display import display, HTML\n",
    "display(HTML(df.to_html()))"
   ]
  },
  {
   "cell_type": "code",
   "execution_count": 37,
   "metadata": {},
   "outputs": [
    {
     "output_type": "execute_result",
     "data": {
      "text/plain": [
       "<PIL.PngImagePlugin.PngImageFile image mode=RGB size=200x200 at 0x7FEE73006F10>"
      ],
      "image/png": "[encoded data removed]"
     },
     "metadata": {},
     "execution_count": 37
    }
   ],
   "source": [
    "df.iloc[1]['img']"
   ]
  },
  {
   "cell_type": "code",
   "execution_count": null,
   "metadata": {},
   "outputs": [],
   "source": [
    "@delegates(plt.Axes.imshow, keep=True, but=['shape', 'imlim'])\n",
    "def show_image(im, ax=None, figsize=None, title=None, ctx=None, **kwargs):\n",
    "    \"Show a PIL or PyTorch image on `ax`.\"\n",
    "    # Handle pytorch axis order\n",
    "    if hasattrs(im, ('data','cpu','permute')):\n",
    "        im = im.data.cpu()\n",
    "        if im.shape[0]<5: im=im.permute(1,2,0)\n",
    "    elif not isinstance(im,np.ndarray): im=array(im)\n",
    "    # Handle 1-channel images\n",
    "    if im.shape[-1]==1: im=im[...,0]\n",
    "\n",
    "    ax = ifnone(ax,ctx)\n",
    "    if figsize is None: figsize = (_fig_bounds(im.shape[0]), _fig_bounds(im.shape[1]))\n",
    "    if ax is None: _,ax = plt.subplots(figsize=figsize)\n",
    "    ax.imshow(im, **kwargs)\n",
    "    if title is not None: ax.set_title(title)\n",
    "    ax.axis('off')\n",
    "    return ax"
   ]
  }
 ]
}